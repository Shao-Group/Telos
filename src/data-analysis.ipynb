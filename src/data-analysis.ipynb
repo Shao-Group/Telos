{
 "cells": [
  {
   "cell_type": "code",
   "execution_count": 5,
   "id": "70967692",
   "metadata": {},
   "outputs": [
    {
     "name": "stdout",
     "output_type": "stream",
     "text": [
      "StringTie TSS label\n",
      "0    6851\n",
      "1    5639\n",
      "Name: count, dtype: int64\n",
      "StringTie TSS label\n",
      "0    0.548519\n",
      "1    0.451481\n",
      "Name: proportion, dtype: float64\n",
      "StringTie TES label\n",
      "0    6283\n",
      "1    5265\n",
      "Name: count, dtype: int64\n",
      "StringTie TES label\n",
      "0    0.544077\n",
      "1    0.455923\n",
      "Name: proportion, dtype: float64\n",
      "IsoQuant TSS label\n",
      "1    4162\n",
      "0    2449\n",
      "Name: count, dtype: int64\n",
      "IsoQuant TSS label\n",
      "1    0.629557\n",
      "0    0.370443\n",
      "Name: proportion, dtype: float64\n",
      "IsoQuant TES label\n",
      "1    3010\n",
      "0    2929\n",
      "Name: count, dtype: int64\n",
      "IsoQuant TES label\n",
      "1    0.506819\n",
      "0    0.493181\n",
      "Name: proportion, dtype: float64\n"
     ]
    }
   ],
   "source": [
    "import pandas as pd\n",
    "data = pd.read_csv('../data_train/stringtie_tss_labeled.csv')\n",
    "print(\"StringTie TSS\",data['label'].value_counts())\n",
    "print(\"StringTie TSS\",data['label'].value_counts(normalize=True))\n",
    "data = pd.read_csv('../data_train/stringtie_tes_labeled.csv')\n",
    "print(\"StringTie TES\",data['label'].value_counts())\n",
    "print(\"StringTie TES\",data['label'].value_counts(normalize=True))\n",
    "data = pd.read_csv('../data_train/isoquant_tss_labeled.csv')\n",
    "print(\"IsoQuant TSS\",data['label'].value_counts())\n",
    "print(\"IsoQuant TSS\",data['label'].value_counts(normalize=True))\n",
    "data = pd.read_csv('../data_train/isoquant_tes_labeled.csv')\n",
    "print(\"IsoQuant TES\",data['label'].value_counts())\n",
    "print(\"IsoQuant TES\",data['label'].value_counts(normalize=True))\n",
    "# print minimum 5 and maximum 5 delta coverage rows\n",
    "\n",
    "# print(data.loc[data['delta_coverage'].idxmax(), ['chrom', 'position', 'delta_coverage']])\n",
    "# print(data.loc[data['delta_coverage'].idxmin(), ['chrom', 'position', 'delta_coverage']])\n",
    "\n",
    "# # print five chromosomes and positions with label 1\n",
    "# print(data.loc[data['label'] == 1, ['chrom', 'position', 'delta_coverage']].sample(frac=1).head(5))\n",
    "# print(data.columns)"
   ]
  },
  {
   "cell_type": "code",
   "execution_count": 7,
   "id": "8a62224a",
   "metadata": {},
   "outputs": [
    {
     "name": "stdout",
     "output_type": "stream",
     "text": [
      "✅ Markdown summary written to ../out/reports/metrics_summary.md\n"
     ]
    }
   ],
   "source": [
    "import os\n",
    "import pandas as pd\n",
    "from glob import glob\n",
    "\n",
    "# Paths\n",
    "REPORTS_DIR = \"../out/reports\"\n",
    "OUTPUT_MD = os.path.join(REPORTS_DIR, \"metrics_summary.md\")\n",
    "\n",
    "# Model variants we expect in filenames\n",
    "MODELS = [\"xgboost\", \"randomforest\"]\n",
    "SITE_TYPES = [\"tss\", \"tes\"]\n",
    "TOOLS = [\"stringtie\", \"isoquant\"]\n",
    "\n",
    "results = []\n",
    "\n",
    "# Search for all metrics summary files\n",
    "for site_type in SITE_TYPES:\n",
    "    for tool in TOOLS:\n",
    "        for model in MODELS:\n",
    "            path = os.path.join(REPORTS_DIR, site_type, f\"{tool}_{model}_metrics_summary.txt\")\n",
    "            if not os.path.exists(path):\n",
    "                print(f\"⚠️ No metrics file found for {tool} {model} on {site_type}. Skipping.\")\n",
    "                continue\n",
    "\n",
    "            metrics = {\n",
    "                \"Tool\": tool,\n",
    "                \"Site Type\": site_type,\n",
    "                \"Model\": model\n",
    "            }\n",
    "            with open(path) as f:\n",
    "                for line in f:\n",
    "                    line = line.strip()\n",
    "                    if line.startswith(\"confusion_matrix\") or not line:\n",
    "                        continue\n",
    "                    if \":\" in line:\n",
    "                        key, value = line.split(\":\", 1)\n",
    "                        key = key.strip().lower()\n",
    "                        try:\n",
    "                            metrics[key] = float(value.strip())\n",
    "                        except ValueError:\n",
    "                            continue\n",
    "            results.append(metrics)\n",
    "\n",
    "# Create markdown report\n",
    "if results:\n",
    "    df = pd.DataFrame(results)\n",
    "    df = df[[\"Tool\", \"Site Type\", \"Model\", \"accuracy\", \"precision\", \"recall\", \"f1\", \"aupr\", \"auc\"]]  # consistent order\n",
    "    os.makedirs(REPORTS_DIR, exist_ok=True)\n",
    "    with open(OUTPUT_MD, \"w\") as f:\n",
    "        f.write(\"# Combined Model Evaluation Summary\\n\\n\")\n",
    "        f.write(df.to_markdown(index=False))\n",
    "    print(f\"✅ Markdown summary written to {OUTPUT_MD}\")\n",
    "else:\n",
    "    print(\"⚠️ No metrics files found. Nothing to summarize.\")\n"
   ]
  },
  {
   "cell_type": "code",
   "execution_count": null,
   "id": "7ca8c663",
   "metadata": {},
   "outputs": [
    {
     "ename": "TypeError",
     "evalue": "replace() takes at least 2 positional arguments (1 given)",
     "output_type": "error",
     "traceback": [
      "\u001b[31m---------------------------------------------------------------------------\u001b[39m",
      "\u001b[31mTypeError\u001b[39m                                 Traceback (most recent call last)",
      "\u001b[36mCell\u001b[39m\u001b[36m \u001b[39m\u001b[32mIn[19]\u001b[39m\u001b[32m, line 15\u001b[39m\n\u001b[32m     13\u001b[39m \u001b[38;5;28;01mfor\u001b[39;00m file \u001b[38;5;129;01min\u001b[39;00m tss_files:\n\u001b[32m     14\u001b[39m     df = pd.read_csv(file)\n\u001b[32m---> \u001b[39m\u001b[32m15\u001b[39m     label = \u001b[43mfile\u001b[49m\u001b[43m.\u001b[49m\u001b[43msplit\u001b[49m\u001b[43m(\u001b[49m\u001b[33;43m\"\u001b[39;49m\u001b[33;43m/\u001b[39;49m\u001b[33;43m\"\u001b[39;49m\u001b[43m)\u001b[49m\u001b[43m[\u001b[49m\u001b[43m-\u001b[49m\u001b[32;43m1\u001b[39;49m\u001b[43m]\u001b[49m\u001b[43m.\u001b[49m\u001b[43mreplace\u001b[49m\u001b[43m(\u001b[49m\u001b[33;43m\"\u001b[39;49m\u001b[33;43m_pr_curve_pr_data.csv\u001b[39;49m\u001b[33;43m\"\u001b[39;49m\u001b[43m,\u001b[49m\u001b[43m \u001b[49m\u001b[33;43m\"\u001b[39;49m\u001b[33;43m\"\u001b[39;49m\u001b[43m)\u001b[49m\u001b[43m.\u001b[49m\u001b[43mreplace\u001b[49m\u001b[43m(\u001b[49m\u001b[33;43m\"\u001b[39;49m\u001b[33;43m\"\u001b[39;49m\u001b[43m)\u001b[49m.split(\u001b[33m\"\u001b[39m\u001b[33m_\u001b[39m\u001b[33m\"\u001b[39m)\n\u001b[32m     16\u001b[39m     label = label[\u001b[32m0\u001b[39m] + \u001b[33m\"\u001b[39m\u001b[33m (\u001b[39m\u001b[33m\"\u001b[39m + label[\u001b[32m1\u001b[39m]  + \u001b[33m\"\u001b[39m\u001b[33m)\u001b[39m\u001b[33m\"\u001b[39m\n\u001b[32m     17\u001b[39m     axs[\u001b[32m0\u001b[39m].plot(df[\u001b[33m\"\u001b[39m\u001b[33mrecall\u001b[39m\u001b[33m\"\u001b[39m], df[\u001b[33m\"\u001b[39m\u001b[33mprecision\u001b[39m\u001b[33m\"\u001b[39m], label=label.title())\n",
      "\u001b[31mTypeError\u001b[39m: replace() takes at least 2 positional arguments (1 given)"
     ]
    },
    {
     "data": {
      "image/png": "[encoded data removed]",
      "text/plain": [
       "<Figure size 1400x600 with 2 Axes>"
      ]
     },
     "metadata": {},
     "output_type": "display_data"
    }
   ],
   "source": [
    "import matplotlib.pyplot as plt\n",
    "import pandas as pd\n",
    "import glob\n",
    "\n",
    "# Get PR curve data CSVs\n",
    "tss_files = glob.glob(\"../out/plots/tss/*_pr_data.csv\")\n",
    "tes_files = glob.glob(\"../out/plots/tes/*_pr_data.csv\")\n",
    "\n",
    "# Set up subplots\n",
    "fig, axs = plt.subplots(1, 2, figsize=(14, 6), sharey=True)\n",
    "\n",
    "# Plot TSS\n",
    "for file in tss_files:\n",
    "    df = pd.read_csv(file)\n",
    "    label = file.split(\"/\")[-1].replace(\"_pr_curve_pr_data.csv\", \"\").replace(\"_\", \" (\").title()\n",
    "    axs[0].plot(df[\"recall\"], df[\"precision\"], label=f\"{label})\")\n",
    "axs[0].set_title(\"TSS PR Curves\")\n",
    "axs[0].set_xlabel(\"Recall\")\n",
    "axs[0].set_ylabel(\"Precision\")\n",
    "axs[0].legend()\n",
    "\n",
    "# Plot TES\n",
    "for file in tes_files:\n",
    "    df = pd.read_csv(file)\n",
    "    label = file.split(\"/\")[-1].replace(\"_pr_curve_pr_data.csv\", \"\").replace(\"_\", \" (\").title()\n",
    "    axs[1].plot(df[\"recall\"], df[\"precision\"], label=f\"{label})\")\n",
    "axs[1].set_title(\"TES PR Curves\")\n",
    "axs[1].set_xlabel(\"Recall\")\n",
    "axs[1].set_ylabel(\"Precision\")\n",
    "axs[1].legend()\n",
    "\n",
    "# Save and show\n",
    "plt.tight_layout()\n",
    "plt.savefig(\"../out/plots/pr_curves_tss_tes_subplots.png\")\n",
    "plt.show()\n"
   ]
  },
  {
   "cell_type": "code",
   "execution_count": 15,
   "id": "a60f8282",
   "metadata": {},
   "outputs": [
    {
     "name": "stdout",
     "output_type": "stream",
     "text": [
      "Isoquant (Randomforest)\n"
     ]
    }
   ],
   "source": [
    "x = tss_files[0]\n",
    "t = x.split(\"/\")[-1].replace(\"_pr_curve_pr_data.csv\", \"\").split(\"_\")\n",
    "print((t[0]  + \" (\" + t[1] + \")\").title())"
   ]
  }
 ],
 "metadata": {
  "kernelspec": {
   "display_name": "project-tss-tes",
   "language": "python",
   "name": "python3"
  },
  "language_info": {
   "codemirror_mode": {
    "name": "ipython",
    "version": 3
   },
   "file_extension": ".py",
   "mimetype": "text/x-python",
   "name": "python",
   "nbconvert_exporter": "python",
   "pygments_lexer": "ipython3",
   "version": "3.13.2"
  }
 },
 "nbformat": 4,
 "nbformat_minor": 5
}

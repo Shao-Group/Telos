{
 "cells": [
  {
   "cell_type": "code",
   "execution_count": null,
   "id": "70967692",
   "metadata": {},
   "outputs": [
    {
     "name": "stdout",
     "output_type": "stream",
     "text": [
      "label\n",
      "0    6851\n",
      "1    5639\n",
      "Name: count, dtype: int64\n",
      "12134\n",
      "10607\n"
     ]
    }
   ],
   "source": [
    "import pandas as pd\n",
    "data = pd.read_csv('../data_train/stringtie_tss_labeled.csv')\n",
    "print(data['label'].value_counts())\n",
    "# print min and max delta coverage rows\n",
    "print(data.loc[data['delta_coverage'].idxmax()])\n",
    "print(data.loc[data['delta_coverage'].idxmin()])\n",
    "# print(data['delta_coverage'].min())"
   ]
  }
 ],
 "metadata": {
  "kernelspec": {
   "display_name": "project-tss-tes",
   "language": "python",
   "name": "python3"
  },
  "language_info": {
   "codemirror_mode": {
    "name": "ipython",
    "version": 3
   },
   "file_extension": ".py",
   "mimetype": "text/x-python",
   "name": "python",
   "nbconvert_exporter": "python",
   "pygments_lexer": "ipython3",
   "version": "3.13.2"
  }
 },
 "nbformat": 4,
 "nbformat_minor": 5
}

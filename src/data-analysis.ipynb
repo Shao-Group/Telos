{
 "cells": [
  {
   "cell_type": "code",
   "execution_count": 12,
   "id": "70967692",
   "metadata": {},
   "outputs": [
    {
     "name": "stdout",
     "output_type": "stream",
     "text": [
      "label\n",
      "0    6851\n",
      "1    5639\n",
      "Name: count, dtype: int64\n",
      "chrom                 chrX\n",
      "position          12975107\n",
      "delta_coverage      873620\n",
      "Name: 12134, dtype: object\n",
      "chrom                 chr7\n",
      "position           5527669\n",
      "delta_coverage    -2267990\n",
      "Name: 10607, dtype: object\n",
      "       chrom   position  delta_coverage\n",
      "9921    chr5  180803884            -621\n",
      "3505   chr14   50312317            1138\n",
      "10712   chr7   38909191            -243\n",
      "8605    chr3  120742537            -371\n",
      "5231   chr17   46923124            1534\n",
      "Index(['chrom', 'position', 'strand', 'total_reads', 'read_start_density',\n",
      "       'read_end_density', 'soft_clip_mean', 'soft_clip_max', 'mean_mapq',\n",
      "       'std_mapq', 'strand_ratio', 'coverage_before', 'coverage_after',\n",
      "       'delta_coverage', 'nearest_splice_dist', 'softclip_bias',\n",
      "       'start_entropy', 'end_entropy', 'label'],\n",
      "      dtype='object')\n"
     ]
    }
   ],
   "source": [
    "import pandas as pd\n",
    "data = pd.read_csv('../data_train/stringtie_tss_labeled.csv')\n",
    "print(data['label'].value_counts())\n",
    "# print minimum 5 and maximum 5 delta coverage rows\n",
    "\n",
    "print(data.loc[data['delta_coverage'].idxmax(), ['chrom', 'position', 'delta_coverage']])\n",
    "print(data.loc[data['delta_coverage'].idxmin(), ['chrom', 'position', 'delta_coverage']])\n",
    "\n",
    "# print five chromosomes and positions with label 1\n",
    "print(data.loc[data['label'] == 1, ['chrom', 'position', 'delta_coverage']].sample(frac=1).head(5))\n",
    "print(data.columns)"
   ]
  },
  {
   "cell_type": "code",
   "execution_count": 15,
   "id": "8a62224a",
   "metadata": {},
   "outputs": [
    {
     "name": "stdout",
     "output_type": "stream",
     "text": [
      "✅ Markdown summary written to ../reports/metrics_summary.md\n"
     ]
    }
   ],
   "source": [
    "import os\n",
    "import pandas as pd\n",
    "from glob import glob\n",
    "\n",
    "# Paths\n",
    "REPORTS_DIR = \"../reports\"\n",
    "OUTPUT_MD = os.path.join(REPORTS_DIR, \"metrics_summary.md\")\n",
    "\n",
    "# Model variants we expect in filenames\n",
    "MODELS = [\"xgboost\", \"randomforest\"]\n",
    "SITE_TYPES = [\"tss\", \"tes\"]\n",
    "TOOLS = [\"stringtie\", \"isoquant\"]\n",
    "\n",
    "results = []\n",
    "\n",
    "# Search for all metrics summary files\n",
    "for site_type in SITE_TYPES:\n",
    "    for tool in TOOLS:\n",
    "        for model in MODELS:\n",
    "            path = os.path.join(REPORTS_DIR, site_type, f\"{tool}_{model}_metrics_summary.txt\")\n",
    "            if not os.path.exists(path):\n",
    "                print(f\"⚠️ No metrics file found for {tool} {model} on {site_type}. Skipping.\")\n",
    "                continue\n",
    "\n",
    "            metrics = {\n",
    "                \"Tool\": tool,\n",
    "                \"Site Type\": site_type,\n",
    "                \"Model\": model\n",
    "            }\n",
    "            with open(path) as f:\n",
    "                for line in f:\n",
    "                    line = line.strip()\n",
    "                    if line.startswith(\"confusion_matrix\") or not line:\n",
    "                        continue\n",
    "                    if \":\" in line:\n",
    "                        key, value = line.split(\":\", 1)\n",
    "                        key = key.strip().lower()\n",
    "                        try:\n",
    "                            metrics[key] = float(value.strip())\n",
    "                        except ValueError:\n",
    "                            continue\n",
    "            results.append(metrics)\n",
    "\n",
    "# Create markdown report\n",
    "if results:\n",
    "    df = pd.DataFrame(results)\n",
    "    df = df[[\"Tool\", \"Site Type\", \"Model\", \"accuracy\", \"precision\", \"recall\", \"f1\", \"aupr\", \"auc\"]]  # consistent order\n",
    "    os.makedirs(REPORTS_DIR, exist_ok=True)\n",
    "    with open(OUTPUT_MD, \"w\") as f:\n",
    "        f.write(\"# Combined Model Evaluation Summary\\n\\n\")\n",
    "        f.write(df.to_markdown(index=False))\n",
    "    print(f\"✅ Markdown summary written to {OUTPUT_MD}\")\n",
    "else:\n",
    "    print(\"⚠️ No metrics files found. Nothing to summarize.\")\n"
   ]
  }
 ],
 "metadata": {
  "kernelspec": {
   "display_name": "project-tss-tes",
   "language": "python",
   "name": "python3"
  },
  "language_info": {
   "codemirror_mode": {
    "name": "ipython",
    "version": 3
   },
   "file_extension": ".py",
   "mimetype": "text/x-python",
   "name": "python",
   "nbconvert_exporter": "python",
   "pygments_lexer": "ipython3",
   "version": "3.13.2"
  }
 },
 "nbformat": 4,
 "nbformat_minor": 5
}
